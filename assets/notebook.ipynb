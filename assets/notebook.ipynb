{
 "cells": [
  {
   "cell_type": "code",
   "execution_count": 2,
   "metadata": {},
   "outputs": [
    {
     "name": "stdout",
     "output_type": "stream",
     "text": [
      "this is print no. 0\n",
      "this is print no. 1\n",
      "this is print no. 2\n",
      "this is print no. 3\n",
      "this is print no. 4\n",
      "this is print no. 5\n",
      "this is print no. 6\n",
      "this is print no. 7\n",
      "this is print no. 8\n",
      "this is print no. 9\n"
     ]
    }
   ],
   "source": [
    "for i in range(10):\n",
    "    print(f'this is print no. {i}')"
   ]
  }
 ],
 "metadata": {
  "kernelspec": {
   "display_name": "main_env",
   "language": "python",
   "name": "python3"
  },
  "language_info": {
   "codemirror_mode": {
    "name": "ipython",
    "version": 3
   },
   "file_extension": ".py",
   "mimetype": "text/x-python",
   "name": "python",
   "nbconvert_exporter": "python",
   "pygments_lexer": "ipython3",
   "version": "3.12.7"
  }
 },
 "nbformat": 4,
 "nbformat_minor": 2
}
